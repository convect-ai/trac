{
 "cells": [
  {
   "cell_type": "code",
   "execution_count": 25,
   "metadata": {},
   "outputs": [],
   "source": [
    "from ortools.constraint_solver import routing_enums_pb2\n",
    "from ortools.constraint_solver import pywrapcp\n",
    "\n"
   ]
  },
  {
   "cell_type": "code",
   "execution_count": 26,
   "metadata": {},
   "outputs": [],
   "source": [
    "import pandas as pd"
   ]
  },
  {
   "cell_type": "code",
   "execution_count": 27,
   "metadata": {
    "tags": [
     "parameters"
    ]
   },
   "outputs": [],
   "source": [
    "# PRAGMA PARAMETER\n",
    "\n",
    "num_vehicles: int = 1\n",
    "depot_index: int = 0"
   ]
  },
  {
   "cell_type": "code",
   "execution_count": 28,
   "metadata": {
    "tags": [
     "inputs"
    ]
   },
   "outputs": [],
   "source": [
    "# PRAGMA INPUT\n",
    "\n",
    "# [START data_model]\n",
    "def create_data_model():\n",
    "    \"\"\"Stores the data for the problem.\"\"\"\n",
    "    data = {}\n",
    "    data['locations'] = []\n",
    "\n",
    "    df_locations = pd.read_csv(\n",
    "        \"data/location.csv\"\n",
    "    )\n",
    "\n",
    "    for index, row in df_locations.iterrows():\n",
    "        data['locations'].append([row['x_cord'] * 114, row['y_cord'] * 80])\n",
    "\n",
    "    # read data from the config dict\n",
    "    data['num_vehicles'] = num_vehicles\n",
    "    data['depot'] = depot_index\n",
    "\n",
    "    return data\n",
    "\n",
    "\n",
    "# [START distance_callback]\n",
    "def create_distance_callback(data, manager):\n",
    "    \"\"\"Creates callback to return distance between points.\"\"\"\n",
    "    distances_ = {}\n",
    "    index_manager_ = manager\n",
    "    # precompute distance between location to have distance callback in O(1)\n",
    "    for from_counter, from_node in enumerate(data['locations']):\n",
    "        distances_[from_counter] = {}\n",
    "        for to_counter, to_node in enumerate(data['locations']):\n",
    "            if from_counter == to_counter:\n",
    "                distances_[from_counter][to_counter] = 0\n",
    "            else:\n",
    "                distances_[from_counter][to_counter] = (\n",
    "                    abs(from_node[0] - to_node[0]) +\n",
    "                    abs(from_node[1] - to_node[1]))\n",
    "\n",
    "    def distance_callback(from_index, to_index):\n",
    "        \"\"\"Returns the manhattan distance between the two nodes.\"\"\"\n",
    "        # Convert from routing variable Index to distance matrix NodeIndex.\n",
    "        from_node = index_manager_.IndexToNode(from_index)\n",
    "        to_node = index_manager_.IndexToNode(to_index)\n",
    "        return distances_[from_node][to_node]\n",
    "\n",
    "    return distance_callback\n",
    "    # [END distance_callback]\n",
    "\n",
    "\n",
    "# [START solution_printer]\n",
    "def print_solution(manager, routing, assignment):\n",
    "    \"\"\"Prints assignment on console.\"\"\"\n",
    "    print('Objective: {}'.format(assignment.ObjectiveValue()))\n",
    "    index = routing.Start(0)\n",
    "    plan_output = 'Route for vehicle 0:\\n'\n",
    "    route_distance = 0\n",
    "    while not routing.IsEnd(index):\n",
    "        plan_output += ' {} ->'.format(manager.IndexToNode(index))\n",
    "        previous_index = index\n",
    "        index = assignment.Value(routing.NextVar(index))\n",
    "        route_distance += routing.GetArcCostForVehicle(previous_index, index, 0)\n",
    "    plan_output += ' {}\\n'.format(manager.IndexToNode(index))\n",
    "    plan_output += 'Distance of the route: {}m\\n'.format(route_distance)\n",
    "    print(plan_output)\n",
    "    # [END solution_printer]\n",
    "\n",
    "\n",
    "def main():\n",
    "    \"\"\"Entry point of the program.\"\"\"\n",
    "    # Instantiate the data problem.\n",
    "    # [START data]\n",
    "    data = create_data_model()\n",
    "    print(data)\n",
    "    # [END data]\n",
    "\n",
    "    # Create the routing index manager.\n",
    "    # [START index_manager]\n",
    "    manager = pywrapcp.RoutingIndexManager(len(data['locations']),\n",
    "                                           data['num_vehicles'], data['depot'])\n",
    "    # [END index_manager]\n",
    "\n",
    "    # Create Routing Model.\n",
    "    # [START routing_model]\n",
    "    routing = pywrapcp.RoutingModel(manager)\n",
    "    # [END routing_model]\n",
    "\n",
    "    # Create and register a transit callback.\n",
    "    # [START transit_callback]\n",
    "    distance_callback = create_distance_callback(data, manager)\n",
    "    transit_callback_index = routing.RegisterTransitCallback(distance_callback)\n",
    "    # [END transit_callback]\n",
    "\n",
    "    # Define cost of each arc.\n",
    "    # [START arc_cost]\n",
    "    routing.SetArcCostEvaluatorOfAllVehicles(transit_callback_index)\n",
    "    # [END arc_cost]\n",
    "\n",
    "    # Setting first solution heuristic.\n",
    "    # [START parameters]\n",
    "    search_parameters = pywrapcp.DefaultRoutingSearchParameters()\n",
    "    search_parameters.first_solution_strategy = (\n",
    "        routing_enums_pb2.FirstSolutionStrategy.PATH_CHEAPEST_ARC)\n",
    "    # [END parameters]\n",
    "\n",
    "    # Solve the problem.\n",
    "    # [START solve]\n",
    "    assignment = routing.SolveWithParameters(search_parameters)\n",
    "    # [END solve]\n",
    "\n",
    "    # Print solution on console.\n",
    "    # [START print_solution]\n",
    "    if assignment:\n",
    "        print_solution(manager, routing, assignment)\n",
    "    # [END print_solution]\n",
    "\n"
   ]
  },
  {
   "cell_type": "code",
   "execution_count": 29,
   "metadata": {},
   "outputs": [
    {
     "name": "stdout",
     "output_type": "stream",
     "text": [
      "{'locations': [[114, 240], [228, 320], [342, 400], [456, 480], [570, 560], [684, 640], [798, 720], [912, 800], [1026, 880], [228, 320], [342, 400], [456, 480], [570, 560], [684, 640], [798, 720], [912, 800], [1026, 880], [228, 320], [342, 400], [456, 480], [570, 560], [684, 640]], 'num_vehicles': 1, 'depot': 0}\n",
      "Objective: 3104\n",
      "Route for vehicle 0:\n",
      " 0 -> 17 -> 9 -> 1 -> 18 -> 10 -> 2 -> 19 -> 11 -> 3 -> 20 -> 12 -> 4 -> 21 -> 13 -> 5 -> 14 -> 6 -> 15 -> 7 -> 16 -> 8 -> 0\n",
      "Distance of the route: 3104m\n",
      "\n"
     ]
    }
   ],
   "source": [
    "main()"
   ]
  },
  {
   "cell_type": "code",
   "execution_count": null,
   "metadata": {},
   "outputs": [],
   "source": []
  }
 ],
 "metadata": {
  "convect": {
   "hash": "7344bf84aa4809ed5a0e77440572f9fde9629ecda6f93487c768d3277a85e8b9",
   "input_schema": [
    {
     "_mount_path": "data/location.csv",
     "properties": {
      "name": {
       "type": "string"
      },
      "x_cord": {
       "type": "integer"
      },
      "y_cord": {
       "type": "integer"
      }
     },
     "title": "location_csv",
     "type": "object"
    }
   ],
   "output_schema": [],
   "packages": [
    "ortools",
    "pandas"
   ],
   "parameter_schema": {
    "properties": {
     "depot_index": {
      "default": 0,
      "type": "integer"
     },
     "num_vehicles": {
      "default": 1,
      "type": "integer"
     }
    },
    "title": "Parameters",
    "type": "object"
   }
  },
  "kernelspec": {
   "display_name": "Python 3.8.0 ('operations-research')",
   "language": "python",
   "name": "python3"
  },
  "language_info": {
   "codemirror_mode": {
    "name": "ipython",
    "version": 3
   },
   "file_extension": ".py",
   "mimetype": "text/x-python",
   "name": "python",
   "nbconvert_exporter": "python",
   "pygments_lexer": "ipython3",
   "version": "3.8.0"
  },
  "vscode": {
   "interpreter": {
    "hash": "29c149084ffd81ff4be093caaa5af28e6642a7ed0a48f5110e26d98b5bae14d7"
   }
  }
 },
 "nbformat": 4,
 "nbformat_minor": 2
}
